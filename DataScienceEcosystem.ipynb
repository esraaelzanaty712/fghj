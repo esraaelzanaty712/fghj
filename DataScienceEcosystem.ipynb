{
 "cells": [
  {
   "cell_type": "markdown",
   "id": "319578fd-e559-477d-9297-95699777e5db",
   "metadata": {},
   "source": [
    "# Data Science Tools and Ecosystem"
   ]
  },
  {
   "cell_type": "markdown",
   "id": "8387d5f3-8ddd-49a8-b9bb-bda3cafe5920",
   "metadata": {},
   "source": [
    "## In this notebook, Data Science Tools and Ecosystem are summarized.\n"
   ]
  },
  {
   "cell_type": "markdown",
   "id": "8399192d-3d55-4341-b628-f90dfddab3d0",
   "metadata": {},
   "source": [
    "Some of the popular languages that Data Scientists use are:\n",
    "1. python \n",
    "2. R \n",
    "3. java"
   ]
  },
  {
   "cell_type": "markdown",
   "id": "9db1fbc3-39c4-4c8c-8dcb-b85fcba913f2",
   "metadata": {},
   "source": [
    "Some of the commonly used libraries used by Data Scientists include:\n",
    "1. pandas \n",
    "2. numpy\n",
    "3. ggplot"
   ]
  },
  {
   "cell_type": "markdown",
   "id": "feb049dc-3706-4186-bea3-ed2ae9063119",
   "metadata": {},
   "source": [
    "|Data Science Tools|\n",
    "|------------------|\n",
    "|pandas|\n",
    "|numpy|\n",
    "|ggplot|"
   ]
  },
  {
   "cell_type": "markdown",
   "id": "c2f1a422-3832-4da4-b97d-99b7990ddd8a",
   "metadata": {},
   "source": [
    "### Below are a few examples of evaluating arithmetic expressions in Python"
   ]
  },
  {
   "cell_type": "code",
   "execution_count": null,
   "id": "a624ebbe-6f92-47df-ab5f-5da5ff510b4b",
   "metadata": {},
   "outputs": [],
   "source": []
  }
 ],
 "metadata": {
  "kernelspec": {
   "display_name": "Python",
   "language": "python",
   "name": "conda-env-python-py"
  },
  "language_info": {
   "codemirror_mode": {
    "name": "ipython",
    "version": 3
   },
   "file_extension": ".py",
   "mimetype": "text/x-python",
   "name": "python",
   "nbconvert_exporter": "python",
   "pygments_lexer": "ipython3",
   "version": "3.7.12"
  }
 },
 "nbformat": 4,
 "nbformat_minor": 5
}
